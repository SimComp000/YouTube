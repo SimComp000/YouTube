{
 "cells": [
  {
   "cell_type": "code",
   "execution_count": 16,
   "metadata": {},
   "outputs": [],
   "source": [
    "import numpy as np\n",
    "import pandas as pd\n",
    "from matplotlib import pyplot as plt\n",
    "from mpl_toolkits.mplot3d import Axes3D\n",
    "from matplotlib import animation\n",
    "from IPython.display import HTML, Image\n",
    "from sklearn.preprocessing import StandardScaler\n",
    "\n",
    "%matplotlib inline"
   ]
  },
  {
   "cell_type": "code",
   "execution_count": 17,
   "metadata": {},
   "outputs": [],
   "source": [
    "def objective_function(x, y, multiplier):\n",
    "    return x**2 + multiplier * y**2\n",
    "\n",
    "# Gradient of the objective function\n",
    "def gradient(x, y, multiplier):\n",
    "    grad_x = 2 * x\n",
    "    grad_y = 2 * multiplier * y\n",
    "    return np.array([grad_x, grad_y])\n",
    "\n",
    "# Gradient Descent Algorithm\n",
    "def gradient_descent(starting_point, learning_rate, n_iterations, multiplier):\n",
    "    current_point = starting_point\n",
    "    theta_0, theta_1 = np.empty([0]), np.empty([0])\n",
    "    for _ in range(n_iterations):\n",
    "        current_point = current_point - learning_rate * gradient(*current_point, multiplier=multiplier)\n",
    "        theta_0=np.append(theta_0,current_point[0])\n",
    "        theta_1=np.append(theta_1,current_point[1])\n",
    "\n",
    "    return current_point, theta_0, theta_1"
   ]
  },
  {
   "cell_type": "code",
   "execution_count": 18,
   "metadata": {},
   "outputs": [
    {
     "name": "stdout",
     "output_type": "stream",
     "text": [
      "Minimum of the function is after 100 iteration is: [2.03703598e-08 1.00000000e+02]\n"
     ]
    }
   ],
   "source": [
    "# Initial starting point\n",
    "initial_point = np.array([100.0, 100.0])\n",
    "\n",
    "# Set learning rate and number of iterations\n",
    "learning_rate = [0.1,0.1]\n",
    "n_iterations = 100\n",
    "multiplier=1;\n",
    "minimum_point_scaled1, theta_0, theta_1  = gradient_descent(initial_point, learning_rate, n_iterations,multiplier)\n",
    "\n",
    "print(\"Minimum of the function is after 100 iteration is:\", minimum_point_scaled1)"
   ]
  },
  {
   "cell_type": "code",
   "execution_count": 19,
   "metadata": {},
   "outputs": [],
   "source": [
    "# Plot the contour plots of the functions\n",
    "x = np.linspace(-150, 150, 500)\n",
    "y = np.linspace(-150, 150, 500)\n",
    "X, Y = np.meshgrid(x, y)\n",
    "\n",
    "Z1 = objective_function(X, Y, multiplier)"
   ]
  },
  {
   "cell_type": "code",
   "execution_count": 20,
   "metadata": {},
   "outputs": [
    {
     "name": "stderr",
     "output_type": "stream",
     "text": [
      "C:\\Users\\arung\\AppData\\Local\\Temp\\ipykernel_1752\\482541023.py:23: MatplotlibDeprecationWarning: Setting data with a non sequence type is deprecated since 3.7 and will be remove two minor releases later\n",
      "  point.set_data(theta_0[i], theta_1[i])\n",
      "C:\\Users\\arung\\AppData\\Local\\Temp\\ipykernel_1752\\482541023.py:23: MatplotlibDeprecationWarning: Setting data with a non sequence type is deprecated since 3.7 and will be remove two minor releases later\n",
      "  point.set_data(theta_0[i], theta_1[i])\n"
     ]
    }
   ],
   "source": [
    "fig1, ax1 = plt.subplots(figsize = (7,7))\n",
    "#ax1.contour(X, Y, Z1, 100)\n",
    "ax1.contour(X, Y, Z1, 100, cmap = 'jet')\n",
    "\n",
    "\n",
    "# Create animation\n",
    "line, = ax1.plot([], [], 'r', label = 'Gradient descent', lw = 1.5)\n",
    "point, = ax1.plot([], [], '*', color = 'red', markersize = 4)\n",
    "value_display = ax1.text(0.02, 0.02, '', transform=ax1.transAxes)\n",
    "\n",
    "def init_1():\n",
    "    line.set_data([], [])\n",
    "    point.set_data([], [])\n",
    "    value_display.set_text('')\n",
    "\n",
    "    return line, point, value_display\n",
    "#theta_0=theta_calc_0\n",
    "def animate_1(i):\n",
    "    # Animate line\n",
    "    line.set_data(theta_0[:i], theta_1[:i])\n",
    "    \n",
    "    # Animate points\n",
    "    point.set_data(theta_0[i], theta_1[i])\n",
    "\n",
    "    # Animate value display\n",
    "    #value_display.set_text('Min = ' + str(J_history_reg[i]))\n",
    "\n",
    "    return line, point, value_display\n",
    "\n",
    "ax1.legend(loc = 1)\n",
    "\n",
    "anim1 = animation.FuncAnimation(fig1, animate_1, init_func=init_1,\n",
    "                               frames=len(theta_0), interval=100, \n",
    "                               repeat_delay=60, blit=True)\n",
    "#plt.show()\n",
    "writervideo = animation.FFMpegWriter(fps=20) \n",
    "anim1.save('increasingStraightLine.mp4', writer=writervideo) \n",
    "HTML(anim1.to_jshtml())\n"
   ]
  }
 ],
 "metadata": {
  "kernelspec": {
   "display_name": "torch",
   "language": "python",
   "name": "python3"
  },
  "language_info": {
   "codemirror_mode": {
    "name": "ipython",
    "version": 3
   },
   "file_extension": ".py",
   "mimetype": "text/x-python",
   "name": "python",
   "nbconvert_exporter": "python",
   "pygments_lexer": "ipython3",
   "version": "3.10.11"
  }
 },
 "nbformat": 4,
 "nbformat_minor": 2
}
